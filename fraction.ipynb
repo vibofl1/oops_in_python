{
 "cells": [
  {
   "cell_type": "code",
   "execution_count": 63,
   "metadata": {},
   "outputs": [],
   "source": [
    "class Fraction:\n",
    "    #initialising with the values 0 and 1 intially\n",
    "    def __init__(self,num=0,den=1) -> None:\n",
    "        if  den==0:\n",
    "             den=1\n",
    "        self.num=num\n",
    "        self.den=den \n",
    "    \n",
    "    \n",
    "    def printdetails(self):\n",
    "        if self.num==0:\n",
    "            print(0)\n",
    "        if self.den==1:\n",
    "            print(self.num)\n",
    "        else:\n",
    "            print(self.num,\"/\",self.den)\n",
    "    def simplify(self):\n",
    "        cur=min(self.num,self.den)\n",
    "        while cur>1:\n",
    "            if self.num%cur==0 and self.den%cur==0:\n",
    "                break\n",
    "            cur-=1\n",
    "        self.num=self.num//cur\n",
    "        self.den=self.den//cur\n",
    "        \n",
    "    def add(self,fo):\n",
    "        newnum=self.num*fo.den+ self.den*fo.num\n",
    "        newden=self.den*fo.den \n",
    "        self.num=newnum\n",
    "        self.den=newden\n",
    "        self.simplify()\n",
    "    def multiply(self,fo):\n",
    "        newnum=self.num*fo.num\n",
    "\n",
    "        newden=self.den*fo.den\n",
    "        self.num=newnum\n",
    "        self.den=newden\n",
    "        self.simplify()\n",
    "        \n",
    "        \n",
    "        \n",
    "        \n",
    "        \n",
    "        \n",
    "        \n",
    "        \n",
    "            \n",
    "    \n",
    "    \n",
    "        "
   ]
  },
  {
   "cell_type": "code",
   "execution_count": 64,
   "metadata": {},
   "outputs": [
    {
     "data": {
      "text/plain": [
       "({'num': 2, 'den': 3}, {'num': 0, 'den': 1})"
      ]
     },
     "execution_count": 64,
     "metadata": {},
     "output_type": "execute_result"
    }
   ],
   "source": [
    "f1=Fraction(2,3)\n",
    "f2=Fraction()\n",
    "f1.__dict__,f2.__dict__"
   ]
  },
  {
   "cell_type": "code",
   "execution_count": 65,
   "metadata": {},
   "outputs": [
    {
     "name": "stdout",
     "output_type": "stream",
     "text": [
      "2 / 3\n"
     ]
    }
   ],
   "source": [
    "f1.printdetails()"
   ]
  },
  {
   "cell_type": "code",
   "execution_count": 66,
   "metadata": {},
   "outputs": [
    {
     "name": "stdout",
     "output_type": "stream",
     "text": [
      "10 / 5\n",
      "2\n"
     ]
    }
   ],
   "source": [
    "f3=Fraction(10,5)\n",
    "f3.printdetails()\n",
    "f3.simplify()\n",
    "f3.printdetails()"
   ]
  },
  {
   "cell_type": "code",
   "execution_count": 67,
   "metadata": {},
   "outputs": [
    {
     "name": "stdout",
     "output_type": "stream",
     "text": [
      "8 / 3\n"
     ]
    },
    {
     "data": {
      "text/plain": [
       "{'num': 8, 'den': 3}"
      ]
     },
     "execution_count": 67,
     "metadata": {},
     "output_type": "execute_result"
    }
   ],
   "source": [
    "f1.add(f3)\n",
    "\n",
    "f1.printdetails()\n",
    "f1.__dict__"
   ]
  },
  {
   "cell_type": "code",
   "execution_count": 68,
   "metadata": {},
   "outputs": [
    {
     "name": "stdout",
     "output_type": "stream",
     "text": [
      "16 / 39\n"
     ]
    }
   ],
   "source": [
    "f4=Fraction(2,13)\n",
    "\n",
    "f1.multiply(f4)\n",
    "f1.printdetails()"
   ]
  },
  {
   "cell_type": "code",
   "execution_count": null,
   "metadata": {},
   "outputs": [],
   "source": []
  }
 ],
 "metadata": {
  "kernelspec": {
   "display_name": "Python 3",
   "language": "python",
   "name": "python3"
  },
  "language_info": {
   "codemirror_mode": {
    "name": "ipython",
    "version": 3
   },
   "file_extension": ".py",
   "mimetype": "text/x-python",
   "name": "python",
   "nbconvert_exporter": "python",
   "pygments_lexer": "ipython3",
   "version": "3.10.5"
  },
  "orig_nbformat": 4,
  "vscode": {
   "interpreter": {
    "hash": "aee8b7b246df8f9039afb4144a1f6fd8d2ca17a180786b69acc140d282b71a49"
   }
  }
 },
 "nbformat": 4,
 "nbformat_minor": 2
}
