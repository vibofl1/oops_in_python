{
 "cells": [
  {
   "attachments": {},
   "cell_type": "markdown",
   "metadata": {},
   "source": [
    "In Python, an abstract class is a class that cannot be instantiated on its own but serves as a blueprint for other classes. It is typically used to define a set of methods or properties that must be implemented by any concrete (i.e., non-abstract) subclass.\n",
    "\n",
    "To define an abstract class in Python, you can use the abc module, which provides the ABC class as a base class for creating abstract classes. The ABC class stands for Abstract Base Class."
   ]
  },
  {
   "cell_type": "code",
   "execution_count": 17,
   "metadata": {},
   "outputs": [],
   "source": [
    "from abc import ABC, abstractmethod\n",
    "\n",
    "class Shape(ABC):\n",
    "    @abstractmethod\n",
    "    def area(self):\n",
    "        pass\n",
    "\n",
    "    @abstractmethod\n",
    "    def perimeter(self):\n",
    "        pass\n"
   ]
  },
  {
   "cell_type": "code",
   "execution_count": 25,
   "metadata": {},
   "outputs": [],
   "source": [
    "from abc import ABC, abstractmethod\n",
    "class vehicle(ABC):\n",
    "    def __init__(self,wheels) -> None:\n",
    "        self.wheels=wheels\n",
    "        print(\"abstract class created\")\n",
    "        \n",
    "    def getwheels(self):\n",
    "        return self.wheels\n",
    "\n",
    "    \n",
    "    @abstractmethod\n",
    "    def start(self):\n",
    "        pass\n",
    "    \n",
    "    @abstractmethod\n",
    "    def stop(self):\n",
    "        pass\n",
    "        \n",
    "    @abstractmethod\n",
    "    def drive(self):\n",
    "        pass\n",
    "        "
   ]
  },
  {
   "cell_type": "code",
   "execution_count": 4,
   "metadata": {},
   "outputs": [
    {
     "ename": "TypeError",
     "evalue": "Can't instantiate abstract class vehicle with abstract methods drive, start, stop",
     "output_type": "error",
     "traceback": [
      "\u001b[0;31m---------------------------------------------------------------------------\u001b[0m",
      "\u001b[0;31mTypeError\u001b[0m                                 Traceback (most recent call last)",
      "\u001b[1;32m/Users/vib/Documents/g_codes/oops_in_python/abstract.ipynb Cell 4\u001b[0m in \u001b[0;36m<cell line: 1>\u001b[0;34m()\u001b[0m\n\u001b[0;32m----> <a href='vscode-notebook-cell:/Users/vib/Documents/g_codes/oops_in_python/abstract.ipynb#W5sZmlsZQ%3D%3D?line=0'>1</a>\u001b[0m v\u001b[39m=\u001b[39mvehicle()\n",
      "\u001b[0;31mTypeError\u001b[0m: Can't instantiate abstract class vehicle with abstract methods drive, start, stop"
     ]
    }
   ],
   "source": [
    "v=vehicle()\n",
    "# abstract cannot be directly created"
   ]
  },
  {
   "cell_type": "code",
   "execution_count": 7,
   "metadata": {},
   "outputs": [],
   "source": [
    "class car(vehicle):\n",
    "    def __init__(self) -> None:\n",
    "        print(\"car class created\")\n",
    "\n",
    "    def start(self):\n",
    "        print(\"starteed car\")\n",
    "    \n",
    "    \n",
    "    \n",
    "        \n",
    "        "
   ]
  },
  {
   "cell_type": "code",
   "execution_count": 9,
   "metadata": {},
   "outputs": [
    {
     "ename": "TypeError",
     "evalue": "Can't instantiate abstract class car with abstract methods drive, stop",
     "output_type": "error",
     "traceback": [
      "\u001b[0;31m---------------------------------------------------------------------------\u001b[0m",
      "\u001b[0;31mTypeError\u001b[0m                                 Traceback (most recent call last)",
      "\u001b[1;32m/Users/vib/Documents/g_codes/oops_in_python/abstract.ipynb Cell 6\u001b[0m in \u001b[0;36m<cell line: 1>\u001b[0;34m()\u001b[0m\n\u001b[0;32m----> <a href='vscode-notebook-cell:/Users/vib/Documents/g_codes/oops_in_python/abstract.ipynb#X10sZmlsZQ%3D%3D?line=0'>1</a>\u001b[0m c1\u001b[39m=\u001b[39mcar()\n",
      "\u001b[0;31mTypeError\u001b[0m: Can't instantiate abstract class car with abstract methods drive, stop"
     ]
    }
   ],
   "source": [
    "c1=car()\n",
    "#without all the functions defined in the abstract class it cannot be created "
   ]
  },
  {
   "cell_type": "code",
   "execution_count": 13,
   "metadata": {},
   "outputs": [],
   "source": [
    "#class car with all the methods/functions of the abstract class\n",
    "\n",
    "\n",
    "class car(vehicle):\n",
    "    def __init__(self) -> None:\n",
    "        print(\"car class created\")\n",
    "\n",
    "    def start(self):\n",
    "        print(\"starteed car\")\n",
    "    \n",
    "    def stop(self):\n",
    "        print(\"car stopped\")\n",
    "    \n",
    "    def drive(self):\n",
    "        print(\"driving\")\n",
    "        \n",
    "        \n",
    "        \n",
    "        \n",
    "        "
   ]
  },
  {
   "cell_type": "code",
   "execution_count": 15,
   "metadata": {},
   "outputs": [
    {
     "name": "stdout",
     "output_type": "stream",
     "text": [
      "car class created\n",
      "starteed car\n"
     ]
    }
   ],
   "source": [
    "\n",
    "c2=car()\n",
    "c2.start()\n",
    "c2\n"
   ]
  },
  {
   "cell_type": "code",
   "execution_count": 28,
   "metadata": {},
   "outputs": [],
   "source": [
    "#passing a argument which goes to vehicle as vehicle class init is first called if not declares aslo \n",
    "\n",
    "class car(vehicle):\n",
    "    def start(self):\n",
    "        print(\"starteed car\")\n",
    "    \n",
    "    def stop(self):\n",
    "        print(\"car stopped\")\n",
    "    \n",
    "    def drive(self):\n",
    "        print(\"driving\")\n",
    "    \n",
    "    def getwheels(self):\n",
    "        return super().getwheels()"
   ]
  },
  {
   "cell_type": "code",
   "execution_count": 29,
   "metadata": {},
   "outputs": [
    {
     "name": "stdout",
     "output_type": "stream",
     "text": [
      "abstract class created\n"
     ]
    },
    {
     "data": {
      "text/plain": [
       "4"
      ]
     },
     "execution_count": 29,
     "metadata": {},
     "output_type": "execute_result"
    }
   ],
   "source": [
    "c2=car(4)\n",
    "\n",
    "c2.getwheels()\n"
   ]
  },
  {
   "cell_type": "code",
   "execution_count": null,
   "metadata": {},
   "outputs": [],
   "source": []
  }
 ],
 "metadata": {
  "kernelspec": {
   "display_name": "Python 3",
   "language": "python",
   "name": "python3"
  },
  "language_info": {
   "codemirror_mode": {
    "name": "ipython",
    "version": 3
   },
   "file_extension": ".py",
   "mimetype": "text/x-python",
   "name": "python",
   "nbconvert_exporter": "python",
   "pygments_lexer": "ipython3",
   "version": "3.10.5"
  },
  "orig_nbformat": 4,
  "vscode": {
   "interpreter": {
    "hash": "aee8b7b246df8f9039afb4144a1f6fd8d2ca17a180786b69acc140d282b71a49"
   }
  }
 },
 "nbformat": 4,
 "nbformat_minor": 2
}
