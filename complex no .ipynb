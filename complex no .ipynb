{
 "cells": [
  {
   "cell_type": "code",
   "execution_count": 61,
   "metadata": {},
   "outputs": [],
   "source": [
    "class Complexno:\n",
    "    def __init__(self,real=0,imaginary=0) -> None:\n",
    "        self.real=real\n",
    "        self.imaginary=imaginary\n",
    "        \n",
    "        \n",
    "    def printdetails(self):\n",
    "        print(self.real ,\"  +  \",\"i\", self.imaginary)\n",
    "        \n",
    "    def add(self,c2):\n",
    "        self.real=self.real+ c2.real \n",
    "        self.imaginary=self.imaginary+ c2.imaginary \n",
    "    \n",
    "    def conjucate(self):\n",
    "        self.imaginary=-self.imaginary\n",
    "        print(self.real ,\"  -  \",\"i\", -self.imaginary)\n",
    "        \n",
    "    def multiply(self,c3):\n",
    "        newre=self.real * c3.real\n",
    "        newimg=self.imaginary*c3.imaginary\n",
    "        self.real=newre\n",
    "        self.imaginary=newimg\n",
    "        \n",
    "    \n",
    "    \n",
    "    \n",
    "        \n",
    "        "
   ]
  },
  {
   "cell_type": "code",
   "execution_count": 62,
   "metadata": {},
   "outputs": [
    {
     "name": "stdout",
     "output_type": "stream",
     "text": [
      "3   +   i 4\n"
     ]
    }
   ],
   "source": [
    "c1=Complexno(3,4)\n",
    "c1.printdetails()"
   ]
  },
  {
   "cell_type": "code",
   "execution_count": 63,
   "metadata": {},
   "outputs": [
    {
     "data": {
      "text/plain": [
       "{'real': 4, 'imaginary': 5}"
      ]
     },
     "execution_count": 63,
     "metadata": {},
     "output_type": "execute_result"
    }
   ],
   "source": [
    "c2=Complexno(4,5)\n",
    "c2.__dict__"
   ]
  },
  {
   "cell_type": "code",
   "execution_count": 64,
   "metadata": {},
   "outputs": [
    {
     "name": "stdout",
     "output_type": "stream",
     "text": [
      "7   +   i 9\n"
     ]
    }
   ],
   "source": [
    "c1.add(c2)\n",
    "c1.printdetails()"
   ]
  },
  {
   "cell_type": "code",
   "execution_count": 65,
   "metadata": {},
   "outputs": [
    {
     "name": "stdout",
     "output_type": "stream",
     "text": [
      "7   -   i 9\n",
      "7   +   i -9\n"
     ]
    }
   ],
   "source": [
    "c1.conjucate()\n",
    "c1.printdetails()"
   ]
  },
  {
   "cell_type": "code",
   "execution_count": 66,
   "metadata": {},
   "outputs": [
    {
     "name": "stdout",
     "output_type": "stream",
     "text": [
      "28   +   i -45\n"
     ]
    },
    {
     "data": {
      "text/plain": [
       "{'real': 28, 'imaginary': -45}"
      ]
     },
     "execution_count": 66,
     "metadata": {},
     "output_type": "execute_result"
    }
   ],
   "source": [
    "c1.multiply(c2)\n",
    "c1.printdetails()\n",
    "c1.__dict__"
   ]
  },
  {
   "cell_type": "code",
   "execution_count": null,
   "metadata": {},
   "outputs": [],
   "source": []
  },
  {
   "cell_type": "code",
   "execution_count": null,
   "metadata": {},
   "outputs": [],
   "source": []
  },
  {
   "cell_type": "code",
   "execution_count": null,
   "metadata": {},
   "outputs": [],
   "source": []
  }
 ],
 "metadata": {
  "kernelspec": {
   "display_name": "Python 3",
   "language": "python",
   "name": "python3"
  },
  "language_info": {
   "codemirror_mode": {
    "name": "ipython",
    "version": 3
   },
   "file_extension": ".py",
   "mimetype": "text/x-python",
   "name": "python",
   "nbconvert_exporter": "python",
   "pygments_lexer": "ipython3",
   "version": "3.10.5"
  },
  "orig_nbformat": 4,
  "vscode": {
   "interpreter": {
    "hash": "aee8b7b246df8f9039afb4144a1f6fd8d2ca17a180786b69acc140d282b71a49"
   }
  }
 },
 "nbformat": 4,
 "nbformat_minor": 2
}
