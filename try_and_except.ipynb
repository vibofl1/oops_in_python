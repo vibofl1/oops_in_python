{
 "cells": [
  {
   "cell_type": "code",
   "execution_count": 1,
   "metadata": {},
   "outputs": [
    {
     "name": "stdout",
     "output_type": "stream",
     "text": [
      "10 12\n"
     ]
    }
   ],
   "source": [
    "num=int(input(\"enter the numerator\"))\n",
    "dem=int(input(\"enter the denominator\"))\n",
    "\n",
    "print(num,dem)"
   ]
  },
  {
   "cell_type": "code",
   "execution_count": 6,
   "metadata": {},
   "outputs": [
    {
     "ename": "ValueError",
     "evalue": "invalid literal for int() with base 10: '12 sst'",
     "output_type": "error",
     "traceback": [
      "\u001b[0;31m---------------------------------------------------------------------------\u001b[0m",
      "\u001b[0;31mValueError\u001b[0m                                Traceback (most recent call last)",
      "\u001b[1;32m/Users/vib/Documents/g_codes/oops_in_python/try_and_except.ipynb Cell 2\u001b[0m in \u001b[0;36m<cell line: 1>\u001b[0;34m()\u001b[0m\n\u001b[0;32m----> <a href='vscode-notebook-cell:/Users/vib/Documents/g_codes/oops_in_python/try_and_except.ipynb#W1sZmlsZQ%3D%3D?line=0'>1</a>\u001b[0m num\u001b[39m=\u001b[39m\u001b[39mint\u001b[39;49m(\u001b[39minput\u001b[39;49m(\u001b[39m\"\u001b[39;49m\u001b[39menter the numerator\u001b[39;49m\u001b[39m\"\u001b[39;49m))\n\u001b[1;32m      <a href='vscode-notebook-cell:/Users/vib/Documents/g_codes/oops_in_python/try_and_except.ipynb#W1sZmlsZQ%3D%3D?line=1'>2</a>\u001b[0m dem\u001b[39m=\u001b[39m\u001b[39mint\u001b[39m(\u001b[39minput\u001b[39m(\u001b[39m\"\u001b[39m\u001b[39menter the denominator\u001b[39m\u001b[39m\"\u001b[39m))\n\u001b[1;32m      <a href='vscode-notebook-cell:/Users/vib/Documents/g_codes/oops_in_python/try_and_except.ipynb#W1sZmlsZQ%3D%3D?line=3'>4</a>\u001b[0m \u001b[39mprint\u001b[39m(num,dem)\n",
      "\u001b[0;31mValueError\u001b[0m: invalid literal for int() with base 10: '12 sst'"
     ]
    }
   ],
   "source": [
    "num=int(input(\"enter the numerator\"))\n",
    "dem=int(input(\"enter the denominator\"))\n",
    "\n",
    "print(num,dem)\n",
    "#we will get ValueError when string will be the input if required is integer so it can be corrected by except block"
   ]
  },
  {
   "cell_type": "code",
   "execution_count": 7,
   "metadata": {},
   "outputs": [
    {
     "name": "stdout",
     "output_type": "stream",
     "text": [
      "enter the no in the correct format of integer only \n"
     ]
    }
   ],
   "source": [
    "#input= str1\n",
    "try :\n",
    "    num=int(input(\"enter the numerator\"))\n",
    "    dem=int(input(\"enter the denominator\"))\n",
    "\n",
    "    print(num,dem)\n",
    "except ValueError:\n",
    "    print(\"enter the no in the correct format of integer only \")"
   ]
  },
  {
   "cell_type": "code",
   "execution_count": 12,
   "metadata": {},
   "outputs": [
    {
     "name": "stdout",
     "output_type": "stream",
     "text": [
      "enter the no in the correct format of integer only \n",
      "enter the no in the correct format of integer only \n",
      "enter the no in the correct format of integer only \n",
      "the denominator should not be zero\n",
      "the denominator should not be zero\n",
      "enter the no in the correct format of integer only \n",
      "0.5\n"
     ]
    }
   ],
   "source": [
    "# input=  str 3 times then 1 and 2 as num and denominator\n",
    "while True:\n",
    "    try:\n",
    "        num=int(input(\"enter the numerator\"))\n",
    "        dem=int(input(\"enter the denominator\"))\n",
    "\n",
    "        print(num/dem)\n",
    "        break\n",
    "\n",
    "    # except (ValueError,ZeroDivisionError): other approach for both \n",
    "    except ValueError:\n",
    "        print(\"enter the no in the correct format of integer only \")\n",
    "        \n",
    "        #or the zero divison error can be given in other line like\n",
    "    except ZeroDivisionError:\n",
    "        print(\"the denominator should not be zero\")\n",
    "        \n",
    "\n",
    "    \n"
   ]
  },
  {
   "cell_type": "code",
   "execution_count": null,
   "metadata": {},
   "outputs": [],
   "source": [
    " \n"
   ]
  },
  {
   "cell_type": "code",
   "execution_count": null,
   "metadata": {},
   "outputs": [],
   "source": [
    " "
   ]
  },
  {
   "cell_type": "code",
   "execution_count": null,
   "metadata": {},
   "outputs": [],
   "source": []
  }
 ],
 "metadata": {
  "kernelspec": {
   "display_name": "Python 3",
   "language": "python",
   "name": "python3"
  },
  "language_info": {
   "codemirror_mode": {
    "name": "ipython",
    "version": 3
   },
   "file_extension": ".py",
   "mimetype": "text/x-python",
   "name": "python",
   "nbconvert_exporter": "python",
   "pygments_lexer": "ipython3",
   "version": "3.10.5"
  },
  "orig_nbformat": 4,
  "vscode": {
   "interpreter": {
    "hash": "aee8b7b246df8f9039afb4144a1f6fd8d2ca17a180786b69acc140d282b71a49"
   }
  }
 },
 "nbformat": 4,
 "nbformat_minor": 2
}
