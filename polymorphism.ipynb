{
 "cells": [
  {
   "cell_type": "code",
   "execution_count": 8,
   "metadata": {},
   "outputs": [],
   "source": [
    "#one function or attribute can be used for multiple operations\n",
    "class vehicle:\n",
    "    def __init__(self,maxspeed=100)  :\n",
    "    \n",
    "         self.maxspeed=maxspeed\n",
    "    \n",
    "    \n",
    "    def printdetails(self):\n",
    "        print(\"vehicle class maxspeed\" ,self.maxspeed)\n",
    "        \n",
    "class car(vehicle):\n",
    "    \n",
    "    def printdetails(self):\n",
    "        print(\"car class maxspeed\",self.maxspeed*2)\n",
    "        \n",
    "        \n",
    "    \n",
    "         "
   ]
  },
  {
   "cell_type": "code",
   "execution_count": 9,
   "metadata": {},
   "outputs": [
    {
     "name": "stdout",
     "output_type": "stream",
     "text": [
      "vehicle class maxspeed 150\n"
     ]
    }
   ],
   "source": [
    "v1=vehicle(150)\n",
    "v1.printdetails()"
   ]
  },
  {
   "cell_type": "code",
   "execution_count": 10,
   "metadata": {},
   "outputs": [
    {
     "name": "stdout",
     "output_type": "stream",
     "text": [
      "car class maxspeed 200\n"
     ]
    }
   ],
   "source": [
    "c1=car()\n",
    "c1.printdetails()\n"
   ]
  },
  {
   "attachments": {},
   "cell_type": "markdown",
   "metadata": {},
   "source": [
    "Type 1:Compile-time Polymorphism (also known as method overloading): In this type of polymorphism, multiple methods have the same name but different parameters.  During compilation, the appropriate method to be called is determined based on the number, type, and order of the parameters passed to the method"
   ]
  },
  {
   "cell_type": "code",
   "execution_count": 13,
   "metadata": {},
   "outputs": [],
   "source": [
    "class calculate():\n",
    "    def add(self,x,y):\n",
    "        print(\"sum is\",x+y)\n",
    "    def add(self,x,y,z):\n",
    "        print(\"sum is \" ,x+y+z)"
   ]
  },
  {
   "cell_type": "code",
   "execution_count": 16,
   "metadata": {},
   "outputs": [
    {
     "name": "stdout",
     "output_type": "stream",
     "text": [
      "sum is  9\n"
     ]
    }
   ],
   "source": [
    "ca=calculate()\n",
    "ca.add(2,3,4)\n",
    "\n"
   ]
  },
  {
   "cell_type": "code",
   "execution_count": 17,
   "metadata": {},
   "outputs": [
    {
     "ename": "TypeError",
     "evalue": "calculate.add() missing 1 required positional argument: 'z'",
     "output_type": "error",
     "traceback": [
      "\u001b[0;31m---------------------------------------------------------------------------\u001b[0m",
      "\u001b[0;31mTypeError\u001b[0m                                 Traceback (most recent call last)",
      "\u001b[1;32m/Users/vib/Documents/g_codes/oops_in_python/polymorphism.ipynb Cell 7\u001b[0m in \u001b[0;36m<cell line: 1>\u001b[0;34m()\u001b[0m\n\u001b[0;32m----> <a href='vscode-notebook-cell:/Users/vib/Documents/g_codes/oops_in_python/polymorphism.ipynb#X10sZmlsZQ%3D%3D?line=0'>1</a>\u001b[0m ca\u001b[39m.\u001b[39;49madd(\u001b[39m2\u001b[39;49m,\u001b[39m3\u001b[39;49m)\n",
      "\u001b[0;31mTypeError\u001b[0m: calculate.add() missing 1 required positional argument: 'z'"
     ]
    }
   ],
   "source": [
    "ca.add(2,3)"
   ]
  },
  {
   "attachments": {},
   "cell_type": "markdown",
   "metadata": {},
   "source": [
    "Type 2: Runtime Polymorphism (also known as method overriding): In this type of polymorphism, a method in a superclass is overridden in its subclass to provide a different implementation. \n",
    "The decision of which implementation to call is made at runtime based on the type of object calling the method"
   ]
  },
  {
   "cell_type": "code",
   "execution_count": 18,
   "metadata": {},
   "outputs": [
    {
     "name": "stdout",
     "output_type": "stream",
     "text": [
      "Animal is making a sound...\n",
      "Dog is barking...\n",
      "Cat is meowing...\n"
     ]
    }
   ],
   "source": [
    "class Animal:\n",
    "    def sound(self):\n",
    "        print(\"Animal is making a sound...\")\n",
    "\n",
    "class Dog(Animal):\n",
    "    def sound(self):\n",
    "        print(\"Dog is barking...\")\n",
    "\n",
    "class Cat(Animal):\n",
    "    def sound(self):\n",
    "        print(\"Cat is meowing...\")\n",
    "\n",
    "a = Animal()\n",
    "a.sound() # Output: Animal is making a sound...\n",
    "\n",
    "d = Dog()\n",
    "d.sound() # Output: Dog is barking...\n",
    "\n",
    "c = Cat()\n",
    "c.sound() # Output: Cat is meowing...\n"
   ]
  },
  {
   "cell_type": "code",
   "execution_count": null,
   "metadata": {},
   "outputs": [],
   "source": []
  }
 ],
 "metadata": {
  "kernelspec": {
   "display_name": "Python 3",
   "language": "python",
   "name": "python3"
  },
  "language_info": {
   "codemirror_mode": {
    "name": "ipython",
    "version": 3
   },
   "file_extension": ".py",
   "mimetype": "text/x-python",
   "name": "python",
   "nbconvert_exporter": "python",
   "pygments_lexer": "ipython3",
   "version": "3.10.5"
  },
  "orig_nbformat": 4,
  "vscode": {
   "interpreter": {
    "hash": "aee8b7b246df8f9039afb4144a1f6fd8d2ca17a180786b69acc140d282b71a49"
   }
  }
 },
 "nbformat": 4,
 "nbformat_minor": 2
}
