{
 "cells": [
  {
   "cell_type": "code",
   "execution_count": 1,
   "metadata": {},
   "outputs": [],
   "source": [
    "\n",
    "#base class\n",
    "\n",
    "class vehicle :\n",
    "    def __init__(self,colour,maxspeed) -> None:\n",
    "        self.colour=colour\n",
    "        \n",
    "        #self.maxspeed=maxspeed\n",
    "        #to access private members we can use name manglice or get set functions\n",
    "        self.__maxspeed=maxspeed\n",
    "    def getmaxspeed(self):\n",
    "        return self.__maxspeed\n",
    "    \n",
    "    def setmaxspeed(self,maxspeed):\n",
    "        self.__maxspeed=maxspeed\n",
    "        \n",
    "        \n",
    "    \n",
    "        \n",
    "        "
   ]
  },
  {
   "cell_type": "code",
   "execution_count": 7,
   "metadata": {},
   "outputs": [],
   "source": [
    "#child class car \n",
    "class car(vehicle):\n",
    "    def __init__(self,colour,maxspeed,no_of_gears,isconvertible) -> None:\n",
    "        super().__init__(colour,maxspeed)\n",
    "        self.no_of_gears=no_of_gears\n",
    "        self.isconvertible=isconvertible\n",
    "    def printdetails(self):\n",
    "        print(\"colour\",self.colour)\n",
    "        print(\"maxspeed\",self.getmaxspeed())\n",
    "        print(\"no of gears:\",self.no_of_gears)\n",
    "        print(\"is the car convertible \", self.isconvertible )\n",
    "        \n",
    "        \n",
    "    "
   ]
  },
  {
   "cell_type": "code",
   "execution_count": 8,
   "metadata": {},
   "outputs": [
    {
     "name": "stdout",
     "output_type": "stream",
     "text": [
      "colour Red\n",
      "maxspeed 150\n",
      "no of gears: 6\n",
      "is the car convertible  False\n"
     ]
    },
    {
     "data": {
      "text/plain": [
       "{'colour': 'Red',\n",
       " '_vehicle__maxspeed': 150,\n",
       " 'no_of_gears': 6,\n",
       " 'isconvertible': False}"
      ]
     },
     "execution_count": 8,
     "metadata": {},
     "output_type": "execute_result"
    }
   ],
   "source": [
    "c1=car(\"Red\",150,6,False)\n",
    "c1.printdetails()\n",
    "c1.__dict__"
   ]
  },
  {
   "cell_type": "code",
   "execution_count": 21,
   "metadata": {},
   "outputs": [
    {
     "data": {
      "text/plain": [
       "{'colour': 'red', 'maxspeed': 300}"
      ]
     },
     "execution_count": 21,
     "metadata": {},
     "output_type": "execute_result"
    }
   ],
   "source": [
    "v1=vehicle(\"red\",300)\n",
    "v1.__dict__"
   ]
  },
  {
   "attachments": {},
   "cell_type": "markdown",
   "metadata": {},
   "source": [
    "MULTIPLE INHERITANCE\n"
   ]
  },
  {
   "cell_type": "code",
   "execution_count": 43,
   "metadata": {},
   "outputs": [],
   "source": [
    "class  father :\n",
    "     def __init__(self) -> None:\n",
    "         self.var=\"hi\"\n",
    "     def printd(self):\n",
    "         print(\"hello father class is called \")\n",
    "\n",
    "class mother:\n",
    "    def __init__(self) -> None:\n",
    "         self.var=\"hello\"\n",
    "         \n",
    "    def printd(self):\n",
    "        \n",
    "        print(\"hello mother class  is called \")\n",
    "\n",
    "class child(mother,father ) : # multiple inheritance  in which both mother and father is called \n",
    "       \n",
    "    #    super().printd()\n",
    "    def __init__(self,name) :\n",
    "        \n",
    "        self.name=name\n",
    "    \n",
    "        super().__init__()\n",
    "    \n",
    "    def printchild(self):\n",
    "        print(\"var is \", self.var)\n",
    "        print(\"present in child class \", self.name)\n",
    "    \n",
    "    \n",
    "    \n",
    "    \n",
    "         "
   ]
  },
  {
   "cell_type": "code",
   "execution_count": 44,
   "metadata": {},
   "outputs": [
    {
     "name": "stdout",
     "output_type": "stream",
     "text": [
      "var is  hello\n",
      "present in child class  vib\n"
     ]
    }
   ],
   "source": [
    "c1=child(\"vib\")\n",
    "\n",
    "c1.printchild()"
   ]
  },
  {
   "cell_type": "code",
   "execution_count": 42,
   "metadata": {},
   "outputs": [
    {
     "name": "stdout",
     "output_type": "stream",
     "text": [
      "hello father class is called \n"
     ]
    }
   ],
   "source": [
    "c1.printd()"
   ]
  },
  {
   "attachments": {},
   "cell_type": "markdown",
   "metadata": {},
   "source": [
    "here father class is called as it depends on the first argument passed in the child class "
   ]
  },
  {
   "cell_type": "code",
   "execution_count": 36,
   "metadata": {},
   "outputs": [
    {
     "name": "stdout",
     "output_type": "stream",
     "text": [
      "hello mother class  is called \n"
     ]
    }
   ],
   "source": [
    "#after changing the order of the  arguments \n",
    "c1.printd()\n"
   ]
  },
  {
   "cell_type": "code",
   "execution_count": null,
   "metadata": {},
   "outputs": [],
   "source": [
    "c1.printchild()"
   ]
  },
  {
   "cell_type": "code",
   "execution_count": null,
   "metadata": {},
   "outputs": [],
   "source": []
  },
  {
   "attachments": {},
   "cell_type": "markdown",
   "metadata": {},
   "source": [
    "# show the final order would be\n",
    "CHILD -> MOTHER->FATHER->OBJECT CLASS"
   ]
  },
  {
   "cell_type": "markdown",
   "metadata": {},
   "source": []
  }
 ],
 "metadata": {
  "kernelspec": {
   "display_name": "Python 3",
   "language": "python",
   "name": "python3"
  },
  "language_info": {
   "codemirror_mode": {
    "name": "ipython",
    "version": 3
   },
   "file_extension": ".py",
   "mimetype": "text/x-python",
   "name": "python",
   "nbconvert_exporter": "python",
   "pygments_lexer": "ipython3",
   "version": "3.10.5"
  },
  "orig_nbformat": 4,
  "vscode": {
   "interpreter": {
    "hash": "aee8b7b246df8f9039afb4144a1f6fd8d2ca17a180786b69acc140d282b71a49"
   }
  }
 },
 "nbformat": 4,
 "nbformat_minor": 2
}
