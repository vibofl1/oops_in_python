{
 "cells": [
  {
   "cell_type": "code",
   "execution_count": 1,
   "metadata": {},
   "outputs": [],
   "source": [
    "\n",
    "#base class\n",
    "\n",
    "class vehicle :\n",
    "    def __init__(self,colour,maxspeed) -> None:\n",
    "        self.colour=colour\n",
    "        \n",
    "        #self.maxspeed=maxspeed\n",
    "        #to access private members we can use name manglice or get set functions\n",
    "        self.__maxspeed=maxspeed\n",
    "    def getmaxspeed(self):\n",
    "        return self.__maxspeed\n",
    "    \n",
    "    def setmaxspeed(self,maxspeed):\n",
    "        self.__maxspeed=maxspeed\n",
    "        \n",
    "        \n",
    "    \n",
    "        \n",
    "        "
   ]
  },
  {
   "cell_type": "code",
   "execution_count": 7,
   "metadata": {},
   "outputs": [],
   "source": [
    "#child class car \n",
    "class car(vehicle):\n",
    "    def __init__(self,colour,maxspeed,no_of_gears,isconvertible) -> None:\n",
    "        super().__init__(colour,maxspeed)\n",
    "        self.no_of_gears=no_of_gears\n",
    "        self.isconvertible=isconvertible\n",
    "    def printdetails(self):\n",
    "        print(\"colour\",self.colour)\n",
    "        print(\"maxspeed\",self.getmaxspeed())\n",
    "        print(\"no of gears:\",self.no_of_gears)\n",
    "        print(\"is the car convertible \", self.isconvertible )\n",
    "        \n",
    "        \n",
    "    "
   ]
  },
  {
   "cell_type": "code",
   "execution_count": 8,
   "metadata": {},
   "outputs": [
    {
     "name": "stdout",
     "output_type": "stream",
     "text": [
      "colour Red\n",
      "maxspeed 150\n",
      "no of gears: 6\n",
      "is the car convertible  False\n"
     ]
    },
    {
     "data": {
      "text/plain": [
       "{'colour': 'Red',\n",
       " '_vehicle__maxspeed': 150,\n",
       " 'no_of_gears': 6,\n",
       " 'isconvertible': False}"
      ]
     },
     "execution_count": 8,
     "metadata": {},
     "output_type": "execute_result"
    }
   ],
   "source": [
    "c1=car(\"Red\",150,6,False)\n",
    "c1.printdetails()\n",
    "c1.__dict__"
   ]
  },
  {
   "cell_type": "code",
   "execution_count": 21,
   "metadata": {},
   "outputs": [
    {
     "data": {
      "text/plain": [
       "{'colour': 'red', 'maxspeed': 300}"
      ]
     },
     "execution_count": 21,
     "metadata": {},
     "output_type": "execute_result"
    }
   ],
   "source": [
    "v1=vehicle(\"red\",300)\n",
    "v1.__dict__"
   ]
  },
  {
   "cell_type": "code",
   "execution_count": null,
   "metadata": {},
   "outputs": [],
   "source": []
  }
 ],
 "metadata": {
  "kernelspec": {
   "display_name": "Python 3",
   "language": "python",
   "name": "python3"
  },
  "language_info": {
   "codemirror_mode": {
    "name": "ipython",
    "version": 3
   },
   "file_extension": ".py",
   "mimetype": "text/x-python",
   "name": "python",
   "nbconvert_exporter": "python",
   "pygments_lexer": "ipython3",
   "version": "3.10.5"
  },
  "orig_nbformat": 4,
  "vscode": {
   "interpreter": {
    "hash": "aee8b7b246df8f9039afb4144a1f6fd8d2ca17a180786b69acc140d282b71a49"
   }
  }
 },
 "nbformat": 4,
 "nbformat_minor": 2
}
